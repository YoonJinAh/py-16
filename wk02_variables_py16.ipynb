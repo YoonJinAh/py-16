{
  "nbformat": 4,
  "nbformat_minor": 0,
  "metadata": {
    "colab": {
      "name": "wk02_variables_py16.ipynb의 사본의 사본",
      "version": "0.3.2",
      "provenance": [],
      "include_colab_link": true
    },
    "kernelspec": {
      "name": "python3",
      "display_name": "Python 3"
    }
  },
  "cells": [
    {
      "cell_type": "markdown",
      "metadata": {
        "id": "view-in-github",
        "colab_type": "text"
      },
      "source": [
        "[View in Colaboratory](https://colab.research.google.com/github/minyeongChoi/py-16/blob/master/wk02_variables_py16.ipynb)"
      ]
    },
    {
      "metadata": {
        "id": "O-ke9e-vadYb",
        "colab_type": "toc"
      },
      "cell_type": "markdown",
      "source": [
        ">>[기본연산](#scrollTo=GVHzj3egSYTg)\n",
        "\n",
        ">>[변수](#scrollTo=CmwjQ2lbS7Uu)\n",
        "\n",
        ">>>[동적변수(dynamic typing)](#scrollTo=1rQwRkfES_x5)\n",
        "\n",
        ">>>[문자열](#scrollTo=On0Oa3V8TJv3)\n",
        "\n",
        ">>>[여러 행 문자열 (\"\"\" ~~ \"\"\")](#scrollTo=F3gvF2hqTZqq)\n",
        "\n",
        ">>>[여러 행 수식](#scrollTo=2XaZ1zOOTpmM)\n",
        "\n",
        ">>>[숫자와 문자열 처리](#scrollTo=blDMY_zfT2Pn)\n",
        "\n",
        ">>>>[변수 type](#scrollTo=veiE8I-XURNT)\n",
        "\n",
        ">>>[문자열을 숫자로 변환 : int(), float()](#scrollTo=u2aWk3f0UvGQ)\n",
        "\n",
        ">>[예약어 (keywords)](#scrollTo=YUPeJTFrVDZM)\n",
        "\n",
        ">>[User input](#scrollTo=5hK2IYC8Xnn-)\n",
        "\n",
        ">>>[Code block & Indentation](#scrollTo=lO-sMMYfYZml)\n",
        "\n",
        ">>>[Indentation error](#scrollTo=uWe4Lg-gYlIE)\n",
        "\n",
        ">>>[도전 코딩1. M/H**2, (M(kg),H(m))](#scrollTo=KHsiHt3LYvD6)\n",
        "\n",
        ">>>[도전 코딩2.](#scrollTo=hC-KYmLAZGwD)\n",
        "\n"
      ]
    },
    {
      "metadata": {
        "id": "GVHzj3egSYTg",
        "colab_type": "text"
      },
      "cell_type": "markdown",
      "source": [
        "## 변수(variables)"
      ]
    },
    {
      "metadata": {
        "id": "X1C1NimRSRSp",
        "colab_type": "code",
        "colab": {
          "base_uri": "https://localhost:8080/",
          "height": 35
        },
        "outputId": "baf4d923-041e-44cc-8306-c4fa3908ff02"
      },
      "cell_type": "code",
      "source": [
        "5-5+1+9"
      ],
      "execution_count": 0,
      "outputs": [
        {
          "output_type": "execute_result",
          "data": {
            "text/plain": [
              "10"
            ]
          },
          "metadata": {
            "tags": []
          },
          "execution_count": 4
        }
      ]
    },
    {
      "metadata": {
        "id": "OUw92zqgSpBF",
        "colab_type": "code",
        "colab": {
          "base_uri": "https://localhost:8080/",
          "height": 35
        },
        "outputId": "f44d3ad1-afba-4193-cd22-352b2e06e8fa"
      },
      "cell_type": "code",
      "source": [
        "5/5/3+9"
      ],
      "execution_count": 0,
      "outputs": [
        {
          "output_type": "execute_result",
          "data": {
            "text/plain": [
              "9.333333333333334"
            ]
          },
          "metadata": {
            "tags": []
          },
          "execution_count": 5
        }
      ]
    },
    {
      "metadata": {
        "id": "T5FI07glStwK",
        "colab_type": "code",
        "colab": {
          "base_uri": "https://localhost:8080/",
          "height": 35
        },
        "outputId": "ca53c3f7-2e21-44d0-c64c-878c98c126ad"
      },
      "cell_type": "code",
      "source": [
        "5/(5/3)+9"
      ],
      "execution_count": 0,
      "outputs": [
        {
          "output_type": "execute_result",
          "data": {
            "text/plain": [
              "12.0"
            ]
          },
          "metadata": {
            "tags": []
          },
          "execution_count": 6
        }
      ]
    },
    {
      "metadata": {
        "id": "3dq9OtBucKmy",
        "colab_type": "code",
        "colab": {
          "base_uri": "https://localhost:8080/",
          "height": 35
        },
        "outputId": "c0ad32d5-9e9e-436a-b0d5-a02b47481368"
      },
      "cell_type": "code",
      "source": [
        "5/5*1+9"
      ],
      "execution_count": 1,
      "outputs": [
        {
          "output_type": "execute_result",
          "data": {
            "text/plain": [
              "10.0"
            ]
          },
          "metadata": {
            "tags": []
          },
          "execution_count": 1
        }
      ]
    },
    {
      "metadata": {
        "id": "s52EzTnwS0q-",
        "colab_type": "code",
        "colab": {
          "base_uri": "https://localhost:8080/",
          "height": 35
        },
        "outputId": "d3937cbb-7097-461e-b567-f6878956d623"
      },
      "cell_type": "code",
      "source": [
        "5/5+(1+9)"
      ],
      "execution_count": 0,
      "outputs": [
        {
          "output_type": "execute_result",
          "data": {
            "text/plain": [
              "11.0"
            ]
          },
          "metadata": {
            "tags": []
          },
          "execution_count": 7
        }
      ]
    },
    {
      "metadata": {
        "id": "1rQwRkfES_x5",
        "colab_type": "text"
      },
      "cell_type": "markdown",
      "source": [
        "### 동적변수(dynamic typing)"
      ]
    },
    {
      "metadata": {
        "id": "nQ-1K2BCS4xT",
        "colab_type": "code",
        "colab": {}
      },
      "cell_type": "code",
      "source": [
        "# 파이썬은 동적인 언어이다. (Dynamic typing)\n",
        "# 정의된 변수\n",
        "some_var = 100\n",
        "# 한편, 정적인 종류의 프로그래밍 언어\n",
        "# 변수는 정해진 유형의 데이터만 할당할 수 있다"
      ],
      "execution_count": 0,
      "outputs": []
    },
    {
      "metadata": {
        "id": "rXxLWac5dk_r",
        "colab_type": "code",
        "colab": {}
      },
      "cell_type": "code",
      "source": [
        "# 다른 종류의 데이터를 할당할 수 있습다\n",
        "some_var = \"강남스타일\""
      ],
      "execution_count": 0,
      "outputs": []
    },
    {
      "metadata": {
        "id": "77vXAaYDdmKX",
        "colab_type": "code",
        "colab": {
          "base_uri": "https://localhost:8080/",
          "height": 35
        },
        "outputId": "b4e588a3-ee98-4059-a089-00e19413cabb"
      },
      "cell_type": "code",
      "source": [
        "some_var"
      ],
      "execution_count": 4,
      "outputs": [
        {
          "output_type": "execute_result",
          "data": {
            "text/plain": [
              "'강남스타일'"
            ]
          },
          "metadata": {
            "tags": []
          },
          "execution_count": 4
        }
      ]
    },
    {
      "metadata": {
        "id": "On0Oa3V8TJv3",
        "colab_type": "text"
      },
      "cell_type": "markdown",
      "source": [
        "### 문자열"
      ]
    },
    {
      "metadata": {
        "id": "a1wQ8H9cTIqb",
        "colab_type": "code",
        "colab": {}
      },
      "cell_type": "code",
      "source": [
        "psy = \"오빤 강남스타일 \"    # 문자열을 변수에 할당"
      ],
      "execution_count": 0,
      "outputs": []
    },
    {
      "metadata": {
        "id": "4gcoNVwGTQQx",
        "colab_type": "code",
        "colab": {
          "base_uri": "https://localhost:8080/",
          "height": 35
        },
        "outputId": "c424da7e-abd8-42a3-8682-4e8027af2bde"
      },
      "cell_type": "code",
      "source": [
        "# 문자열을 연결\n",
        "psy = \"오빤 강남스타일 \" \n",
        "psy = psy+\"오, 강남스타일\"\n",
        "psy                  # 연결 문자열을 확인"
      ],
      "execution_count": 0,
      "outputs": [
        {
          "output_type": "execute_result",
          "data": {
            "text/plain": [
              "'오빤 강남스타일 오, 강남스타일'"
            ]
          },
          "metadata": {
            "tags": []
          },
          "execution_count": 10
        }
      ]
    },
    {
      "metadata": {
        "id": "j0SfwUnCTTIU",
        "colab_type": "code",
        "colab": {
          "base_uri": "https://localhost:8080/",
          "height": 35
        },
        "outputId": "cb06a5a6-dffd-4e7f-faaa-421d56628506"
      },
      "cell_type": "code",
      "source": [
        "# 복합 연산자를 사용해 보자\n",
        "psy2 = \"아름다워 사랑스러워 \"\n",
        "psy2 += \"그래 너, 그래 바로 너\"\n",
        "psy2       # 복합 연산자를 사용하여 연결 문자열을 확인"
      ],
      "execution_count": 0,
      "outputs": [
        {
          "output_type": "execute_result",
          "data": {
            "text/plain": [
              "'아름다워 사랑스러워 그래 너, 그래 바로 너'"
            ]
          },
          "metadata": {
            "tags": []
          },
          "execution_count": 11
        }
      ]
    },
    {
      "metadata": {
        "id": "F3gvF2hqTZqq",
        "colab_type": "text"
      },
      "cell_type": "markdown",
      "source": [
        "### 여러 행 문자열 (\"\"\" ~~ \"\"\")"
      ]
    },
    {
      "metadata": {
        "id": "IWXNyTufTWUa",
        "colab_type": "code",
        "colab": {
          "base_uri": "https://localhost:8080/",
          "height": 55
        },
        "outputId": "7db5db77-13da-495a-9dd9-3478c4691d3e"
      },
      "cell_type": "code",
      "source": [
        "# 따옴표를 세 개 겹친 삼중 따옴표를 사용하면 줄 바꿈을 포함하는 문자열을 정의할 수 있다\n",
        "\n",
        "psy = \"\"\" 낮에는 따사로운 인간적인 여자 \n",
        "커피 한잔의 여유를 아는 품격있는 여자 \n",
        "밤이 오면 심장이 뜨거워지는 여자 그런 반전 있는 여자 \"\"\"\n",
        "psy"
      ],
      "execution_count": 0,
      "outputs": [
        {
          "output_type": "execute_result",
          "data": {
            "text/plain": [
              "' 낮에는 따사로운 인간적인 여자 \\n커피 한잔의 여유를 아는 품격있는 여자 \\n밤이 오면 심장이 뜨거워지는 여자 그런 반전 있는 여자 '"
            ]
          },
          "metadata": {
            "tags": []
          },
          "execution_count": 12
        }
      ]
    },
    {
      "metadata": {
        "id": "fHVFz5ZsTjYf",
        "colab_type": "code",
        "colab": {
          "base_uri": "https://localhost:8080/",
          "height": 71
        },
        "outputId": "9b4ba26b-c993-4993-f89b-72458a403451"
      },
      "cell_type": "code",
      "source": [
        "print(psy)"
      ],
      "execution_count": 0,
      "outputs": [
        {
          "output_type": "stream",
          "text": [
            " 낮에는 따사로운 인간적인 여자 \n",
            "커피 한잔의 여유를 아는 품격있는 여자 \n",
            "밤이 오면 심장이 뜨거워지는 여자 그런 반전 있는 여자 \n"
          ],
          "name": "stdout"
        }
      ]
    },
    {
      "metadata": {
        "id": "2XaZ1zOOTpmM",
        "colab_type": "text"
      },
      "cell_type": "markdown",
      "source": [
        "### 여러 행 수식"
      ]
    },
    {
      "metadata": {
        "id": "ArUIjSYITl-w",
        "colab_type": "code",
        "colab": {
          "base_uri": "https://localhost:8080/",
          "height": 35
        },
        "outputId": "1924e44e-9e2c-4922-93cf-8d95ce89c03e"
      },
      "cell_type": "code",
      "source": [
        "sum = 10 + 20 + 30 + 40\n",
        "sum"
      ],
      "execution_count": 0,
      "outputs": [
        {
          "output_type": "execute_result",
          "data": {
            "text/plain": [
              "100"
            ]
          },
          "metadata": {
            "tags": []
          },
          "execution_count": 14
        }
      ]
    },
    {
      "metadata": {
        "id": "M7jJzLLVTy4g",
        "colab_type": "code",
        "colab": {
          "base_uri": "https://localhost:8080/",
          "height": 35
        },
        "outputId": "bc956621-c8f5-466c-8264-5292821a9fa9"
      },
      "cell_type": "code",
      "source": [
        "sum = 10 + 20 + \\\n",
        "30 + 40\n",
        "sum"
      ],
      "execution_count": 0,
      "outputs": [
        {
          "output_type": "execute_result",
          "data": {
            "text/plain": [
              "100"
            ]
          },
          "metadata": {
            "tags": []
          },
          "execution_count": 15
        }
      ]
    },
    {
      "metadata": {
        "id": "blDMY_zfT2Pn",
        "colab_type": "text"
      },
      "cell_type": "markdown",
      "source": [
        "### 숫자와 문자열 처리"
      ]
    },
    {
      "metadata": {
        "id": "rNM_woRaT7_l",
        "colab_type": "code",
        "colab": {
          "base_uri": "https://localhost:8080/",
          "height": 208
        },
        "outputId": "c6f8348e-9896-495e-b3cf-435c7e230d21"
      },
      "cell_type": "code",
      "source": [
        "day=3\n",
        "date = day + \" 일\"\n",
        "print(date)"
      ],
      "execution_count": 6,
      "outputs": [
        {
          "output_type": "error",
          "ename": "TypeError",
          "evalue": "ignored",
          "traceback": [
            "\u001b[0;31m---------------------------------------------------------------------------\u001b[0m",
            "\u001b[0;31mTypeError\u001b[0m                                 Traceback (most recent call last)",
            "\u001b[0;32m<ipython-input-6-32c30f04a60b>\u001b[0m in \u001b[0;36m<module>\u001b[0;34m()\u001b[0m\n\u001b[1;32m      1\u001b[0m \u001b[0mday\u001b[0m\u001b[0;34m=\u001b[0m\u001b[0;36m3\u001b[0m\u001b[0;34m\u001b[0m\u001b[0m\n\u001b[0;32m----> 2\u001b[0;31m \u001b[0mdate\u001b[0m \u001b[0;34m=\u001b[0m \u001b[0mday\u001b[0m \u001b[0;34m+\u001b[0m \u001b[0;34m\" 일\"\u001b[0m\u001b[0;34m\u001b[0m\u001b[0m\n\u001b[0m\u001b[1;32m      3\u001b[0m \u001b[0mprint\u001b[0m\u001b[0;34m(\u001b[0m\u001b[0mdate\u001b[0m\u001b[0;34m)\u001b[0m\u001b[0;34m\u001b[0m\u001b[0m\n",
            "\u001b[0;31mTypeError\u001b[0m: unsupported operand type(s) for +: 'int' and 'str'"
          ]
        }
      ]
    },
    {
      "metadata": {
        "id": "0bSLYCqjUCqc",
        "colab_type": "code",
        "colab": {
          "base_uri": "https://localhost:8080/",
          "height": 35
        },
        "outputId": "96570d19-6a00-4583-88eb-6d18a34a2864"
      },
      "cell_type": "code",
      "source": [
        "date = str(day) + \" 일\"\n",
        "print(date)  #숫자와 문자열을 더하기위해 str사용"
      ],
      "execution_count": 8,
      "outputs": [
        {
          "output_type": "stream",
          "text": [
            "3 일\n"
          ],
          "name": "stdout"
        }
      ]
    },
    {
      "metadata": {
        "id": "g9avAQTqUK9O",
        "colab_type": "code",
        "colab": {
          "base_uri": "https://localhost:8080/",
          "height": 35
        },
        "outputId": "d18a44ee-c4c8-4227-c3a3-9268910780aa"
      },
      "cell_type": "code",
      "source": [
        "day=3\n",
        "str_day=str(day)\n",
        "date = str_day + \" 일\"\n",
        "print(date) "
      ],
      "execution_count": 0,
      "outputs": [
        {
          "output_type": "stream",
          "text": [
            "3 일\n"
          ],
          "name": "stdout"
        }
      ]
    },
    {
      "metadata": {
        "id": "jRi8tEhzguDq",
        "colab_type": "code",
        "colab": {}
      },
      "cell_type": "code",
      "source": [
        ""
      ],
      "execution_count": 0,
      "outputs": []
    },
    {
      "metadata": {
        "id": "veiE8I-XURNT",
        "colab_type": "text"
      },
      "cell_type": "markdown",
      "source": [
        "#### 변수 type"
      ]
    },
    {
      "metadata": {
        "id": "hD7z8cRcUPYM",
        "colab_type": "code",
        "colab": {
          "base_uri": "https://localhost:8080/",
          "height": 35
        },
        "outputId": "decddecf-4e84-4392-dbe1-43e029838922"
      },
      "cell_type": "code",
      "source": [
        "# 변수 type\n",
        "type(day)"
      ],
      "execution_count": 0,
      "outputs": [
        {
          "output_type": "execute_result",
          "data": {
            "text/plain": [
              "int"
            ]
          },
          "metadata": {
            "tags": []
          },
          "execution_count": 20
        }
      ]
    },
    {
      "metadata": {
        "id": "jMqOx-8vUbkv",
        "colab_type": "code",
        "colab": {
          "base_uri": "https://localhost:8080/",
          "height": 35
        },
        "outputId": "77dfb541-c7bf-44c8-e327-7e8fd4262231"
      },
      "cell_type": "code",
      "source": [
        "type(day),type(str_day),type(date)"
      ],
      "execution_count": 0,
      "outputs": [
        {
          "output_type": "execute_result",
          "data": {
            "text/plain": [
              "(int, str, str)"
            ]
          },
          "metadata": {
            "tags": []
          },
          "execution_count": 21
        }
      ]
    },
    {
      "metadata": {
        "id": "8LVwGNScUd2p",
        "colab_type": "code",
        "colab": {
          "base_uri": "https://localhost:8080/",
          "height": 1259
        },
        "outputId": "910cd496-eb3c-4c99-a07b-cb0064e56682"
      },
      "cell_type": "code",
      "source": [
        "dir()"
      ],
      "execution_count": 0,
      "outputs": [
        {
          "output_type": "execute_result",
          "data": {
            "text/plain": [
              "['In',\n",
              " 'Out',\n",
              " '_',\n",
              " '_10',\n",
              " '_11',\n",
              " '_12',\n",
              " '_14',\n",
              " '_15',\n",
              " '_20',\n",
              " '_21',\n",
              " '_4',\n",
              " '_5',\n",
              " '_6',\n",
              " '_7',\n",
              " '_TensorFlowImportHook',\n",
              " '__',\n",
              " '___',\n",
              " '__builtin__',\n",
              " '__builtins__',\n",
              " '__doc__',\n",
              " '__loader__',\n",
              " '__name__',\n",
              " '__package__',\n",
              " '__spec__',\n",
              " '_dh',\n",
              " '_i',\n",
              " '_i1',\n",
              " '_i10',\n",
              " '_i11',\n",
              " '_i12',\n",
              " '_i13',\n",
              " '_i14',\n",
              " '_i15',\n",
              " '_i16',\n",
              " '_i17',\n",
              " '_i18',\n",
              " '_i19',\n",
              " '_i2',\n",
              " '_i20',\n",
              " '_i21',\n",
              " '_i22',\n",
              " '_i3',\n",
              " '_i4',\n",
              " '_i5',\n",
              " '_i6',\n",
              " '_i7',\n",
              " '_i8',\n",
              " '_i9',\n",
              " '_ih',\n",
              " '_ii',\n",
              " '_iii',\n",
              " '_oh',\n",
              " '_sh',\n",
              " 'date',\n",
              " 'datetime',\n",
              " 'day',\n",
              " 'exit',\n",
              " 'get_ipython',\n",
              " 'imp',\n",
              " 'logging',\n",
              " 'os',\n",
              " 'psy',\n",
              " 'psy2',\n",
              " 'quit',\n",
              " 'register_hook',\n",
              " 'some_var',\n",
              " 'str_day',\n",
              " 'sum',\n",
              " 'sys']"
            ]
          },
          "metadata": {
            "tags": []
          },
          "execution_count": 22
        }
      ]
    },
    {
      "metadata": {
        "id": "u2aWk3f0UvGQ",
        "colab_type": "text"
      },
      "cell_type": "markdown",
      "source": [
        "### 문자열을 숫자로 변환 : int(), float()"
      ]
    },
    {
      "metadata": {
        "id": "O2eQ5QvnUhCw",
        "colab_type": "code",
        "colab": {}
      },
      "cell_type": "code",
      "source": [
        "num = int(\"31\")\n",
        "pi = float('3.141592')"
      ],
      "execution_count": 0,
      "outputs": []
    },
    {
      "metadata": {
        "id": "i_Smj4bfU1E9",
        "colab_type": "code",
        "colab": {
          "base_uri": "https://localhost:8080/",
          "height": 35
        },
        "outputId": "c3e5bae1-157b-48d0-d701-d9b791abfdba"
      },
      "cell_type": "code",
      "source": [
        "# num.pi\n",
        "num"
      ],
      "execution_count": 0,
      "outputs": [
        {
          "output_type": "execute_result",
          "data": {
            "text/plain": [
              "31"
            ]
          },
          "metadata": {
            "tags": []
          },
          "execution_count": 24
        }
      ]
    },
    {
      "metadata": {
        "id": "ZYk00QqaU3Me",
        "colab_type": "code",
        "colab": {
          "base_uri": "https://localhost:8080/",
          "height": 35
        },
        "outputId": "a9c53fe7-5a9b-4d74-e524-8851dca9f0cd"
      },
      "cell_type": "code",
      "source": [
        "pi,type(pi)"
      ],
      "execution_count": 0,
      "outputs": [
        {
          "output_type": "execute_result",
          "data": {
            "text/plain": [
              "(3.141592, float)"
            ]
          },
          "metadata": {
            "tags": []
          },
          "execution_count": 25
        }
      ]
    },
    {
      "metadata": {
        "id": "PsojT36PU4rS",
        "colab_type": "code",
        "colab": {
          "base_uri": "https://localhost:8080/",
          "height": 35
        },
        "outputId": "7d87279f-28f4-4e08-dcf9-65fe11e833eb"
      },
      "cell_type": "code",
      "source": [
        "print(\"num = {}, pi = {}\".format(num,pi))"
      ],
      "execution_count": 0,
      "outputs": [
        {
          "output_type": "stream",
          "text": [
            "num = 31, pi = 3.141592\n"
          ],
          "name": "stdout"
        }
      ]
    },
    {
      "metadata": {
        "id": "YUPeJTFrVDZM",
        "colab_type": "text"
      },
      "cell_type": "markdown",
      "source": [
        "## 예약어 (keywords)"
      ]
    },
    {
      "metadata": {
        "id": "0M9jpRlbU7O5",
        "colab_type": "code",
        "colab": {
          "base_uri": "https://localhost:8080/",
          "height": 35
        },
        "outputId": "7004e1e4-01d8-40ca-aee9-5d084d999c5a"
      },
      "cell_type": "code",
      "source": [
        "import keyword\n",
        "\n",
        "# 파이썬의 예약어 수\n",
        "\n",
        "len(keyword.kwlist)"
      ],
      "execution_count": 0,
      "outputs": [
        {
          "output_type": "execute_result",
          "data": {
            "text/plain": [
              "33"
            ]
          },
          "metadata": {
            "tags": []
          },
          "execution_count": 27
        }
      ]
    },
    {
      "metadata": {
        "id": "4N3IG9fGVI2u",
        "colab_type": "code",
        "colab": {
          "base_uri": "https://localhost:8080/",
          "height": 35
        },
        "outputId": "10ec558d-75c0-41fc-f71b-546dbbcf6676"
      },
      "cell_type": "code",
      "source": [
        "keyword"
      ],
      "execution_count": 0,
      "outputs": [
        {
          "output_type": "execute_result",
          "data": {
            "text/plain": [
              "<module 'keyword' from '/usr/lib/python3.6/keyword.py'>"
            ]
          },
          "metadata": {
            "tags": []
          },
          "execution_count": 28
        }
      ]
    },
    {
      "metadata": {
        "id": "PLqlUjtIXGTJ",
        "colab_type": "code",
        "colab": {
          "base_uri": "https://localhost:8080/",
          "height": 611
        },
        "outputId": "dc3774ab-d582-4543-f283-cd5c63398067"
      },
      "cell_type": "code",
      "source": [
        "# 예약어 목록\n",
        "keyword.kwlist"
      ],
      "execution_count": 0,
      "outputs": [
        {
          "output_type": "execute_result",
          "data": {
            "text/plain": [
              "['False',\n",
              " 'None',\n",
              " 'True',\n",
              " 'and',\n",
              " 'as',\n",
              " 'assert',\n",
              " 'break',\n",
              " 'class',\n",
              " 'continue',\n",
              " 'def',\n",
              " 'del',\n",
              " 'elif',\n",
              " 'else',\n",
              " 'except',\n",
              " 'finally',\n",
              " 'for',\n",
              " 'from',\n",
              " 'global',\n",
              " 'if',\n",
              " 'import',\n",
              " 'in',\n",
              " 'is',\n",
              " 'lambda',\n",
              " 'nonlocal',\n",
              " 'not',\n",
              " 'or',\n",
              " 'pass',\n",
              " 'raise',\n",
              " 'return',\n",
              " 'try',\n",
              " 'while',\n",
              " 'with',\n",
              " 'yield']"
            ]
          },
          "metadata": {
            "tags": []
          },
          "execution_count": 29
        }
      ]
    },
    {
      "metadata": {
        "id": "N80us7MhXdx6",
        "colab_type": "code",
        "colab": {
          "base_uri": "https://localhost:8080/",
          "height": 35
        },
        "outputId": "fdecb271-7929-4c6d-d5b7-6b2433611b03"
      },
      "cell_type": "code",
      "source": [
        "_as = \"inje\"\n",
        "_as"
      ],
      "execution_count": 0,
      "outputs": [
        {
          "output_type": "execute_result",
          "data": {
            "text/plain": [
              "'inje'"
            ]
          },
          "metadata": {
            "tags": []
          },
          "execution_count": 31
        }
      ]
    },
    {
      "metadata": {
        "id": "5hK2IYC8Xnn-",
        "colab_type": "text"
      },
      "cell_type": "markdown",
      "source": [
        "## User input"
      ]
    },
    {
      "metadata": {
        "id": "wNlRaanWXhLL",
        "colab_type": "code",
        "colab": {
          "base_uri": "https://localhost:8080/",
          "height": 35
        },
        "outputId": "74b56cae-1968-4947-eefa-f72be97b0e00"
      },
      "cell_type": "code",
      "source": [
        "name = input(\"Please write down your name here!\")"
      ],
      "execution_count": 0,
      "outputs": [
        {
          "output_type": "stream",
          "text": [
            "Please write down your name here!MinYeong\n"
          ],
          "name": "stdout"
        }
      ]
    },
    {
      "metadata": {
        "id": "JuCUAJrnXxkn",
        "colab_type": "code",
        "colab": {
          "base_uri": "https://localhost:8080/",
          "height": 35
        },
        "outputId": "6882e6e2-b032-421a-e1f2-ab3f7f73e571"
      },
      "cell_type": "code",
      "source": [
        "name"
      ],
      "execution_count": 0,
      "outputs": [
        {
          "output_type": "execute_result",
          "data": {
            "text/plain": [
              "'MinYeong'"
            ]
          },
          "metadata": {
            "tags": []
          },
          "execution_count": 33
        }
      ]
    },
    {
      "metadata": {
        "id": "lO-sMMYfYZml",
        "colab_type": "text"
      },
      "cell_type": "markdown",
      "source": [
        "### Code block & Indentation"
      ]
    },
    {
      "metadata": {
        "id": "jamVt0QGYYQZ",
        "colab_type": "code",
        "colab": {
          "base_uri": "https://localhost:8080/",
          "height": 71
        },
        "outputId": "0ea9472f-5799-49ce-bfa0-3a3aa9a6243c"
      },
      "cell_type": "code",
      "source": [
        "if(10>3):\n",
        "  print('inside if block')\n",
        "  print('still inside if block') #가정이 ture라면 3줄 다 출력됨.\n",
        "  \n",
        "print('outside if block!') #가정이 false라면 이 줄만 출력됨."
      ],
      "execution_count": 0,
      "outputs": [
        {
          "output_type": "stream",
          "text": [
            "inside if block\n",
            "still inside if block\n",
            "outside if block!\n"
          ],
          "name": "stdout"
        }
      ]
    },
    {
      "metadata": {
        "id": "uWe4Lg-gYlIE",
        "colab_type": "text"
      },
      "cell_type": "markdown",
      "source": [
        "### Indentation error"
      ]
    },
    {
      "metadata": {
        "id": "dfTSHl4sYj1P",
        "colab_type": "code",
        "colab": {
          "base_uri": "https://localhost:8080/",
          "height": 136
        },
        "outputId": "32eed3f8-32a6-4026-bb5a-8ad899fb66f3"
      },
      "cell_type": "code",
      "source": [
        "if(10>3):\n",
        "  print('inside if block')\n",
        "   print('still inside if block') #에러가 난 이유는 윗 줄과 같은 라인이 아니기때문\n",
        "  \n",
        "print('outside if block!')"
      ],
      "execution_count": 0,
      "outputs": [
        {
          "output_type": "error",
          "ename": "IndentationError",
          "evalue": "ignored",
          "traceback": [
            "\u001b[0;36m  File \u001b[0;32m\"<ipython-input-35-78ab58a5b15b>\"\u001b[0;36m, line \u001b[0;32m3\u001b[0m\n\u001b[0;31m    print('still inside if block') #에러가 난 이유는 윗 줄과 같은 라인이 아니기때문\u001b[0m\n\u001b[0m    ^\u001b[0m\n\u001b[0;31mIndentationError\u001b[0m\u001b[0;31m:\u001b[0m unexpected indent\n"
          ]
        }
      ]
    },
    {
      "metadata": {
        "id": "KHsiHt3LYvD6",
        "colab_type": "text"
      },
      "cell_type": "markdown",
      "source": [
        "### 도전 코딩1. M/H**2, (M(kg),H(m))"
      ]
    },
    {
      "metadata": {
        "id": "JxoZHVgrYscb",
        "colab_type": "code",
        "colab": {
          "base_uri": "https://localhost:8080/",
          "height": 71
        },
        "outputId": "b1b28717-1972-47aa-9ef4-31b1cf9a6b29"
      },
      "cell_type": "code",
      "source": [
        "h = float(input(\"Your height in meters:\"))\n",
        "m = float(input(\"Your weight in kilograms:\"))\n",
        "bmi = round(m/(h*h),1)\n",
        "bmi"
      ],
      "execution_count": 0,
      "outputs": [
        {
          "output_type": "stream",
          "text": [
            "Your height in meters:1.60\n",
            "Your weight in kilograms:56\n"
          ],
          "name": "stdout"
        },
        {
          "output_type": "execute_result",
          "data": {
            "text/plain": [
              "21.9"
            ]
          },
          "metadata": {
            "tags": []
          },
          "execution_count": 36
        }
      ]
    },
    {
      "metadata": {
        "id": "hC-KYmLAZGwD",
        "colab_type": "text"
      },
      "cell_type": "markdown",
      "source": [
        "### 도전 코딩2.\n",
        "\n",
        "1.   조깅에서 1kg 지방을 태우는데 몇 시간이 걸리는지 계산\n",
        "\n",
        "\n",
        "2.  조깅에서 1kg 체중 감소하는데 몇 분이 필요할까?\n"
      ]
    },
    {
      "metadata": {
        "id": "fXEVa6X2Y0nt",
        "colab_type": "code",
        "colab": {}
      },
      "cell_type": "code",
      "source": [
        "cal_per_1kg_fat = 7200       # 지방 1kg 연소에 필요한 열량\n",
        "cal_per_1min_jog = 7.76       # 조깅 1 분에 의한 소비 칼로리"
      ],
      "execution_count": 0,
      "outputs": []
    },
    {
      "metadata": {
        "id": "9SSx2XMTZtI3",
        "colab_type": "code",
        "colab": {
          "base_uri": "https://localhost:8080/",
          "height": 53
        },
        "outputId": "6eb4c63b-ccad-42a9-bc90-100ed7368df4"
      },
      "cell_type": "code",
      "source": [
        "min_to_lose1kg = cal_per_1kg_fat/cal_per_1min_jog\n",
        "hours_to_lose1kg = min_to_lose1kg/60  # 분을 시간으로 환산\n",
        "print(round(hours_to_lose1kg,1))\n",
        "print(str(round(hours_to_lose1kg,1)) + \" 시간\")      # 변수의 내용을 표시"
      ],
      "execution_count": 0,
      "outputs": [
        {
          "output_type": "stream",
          "text": [
            "15.5\n",
            "15.5 시간\n"
          ],
          "name": "stdout"
        }
      ]
    },
    {
      "metadata": {
        "id": "gD-UbmzVZvyN",
        "colab_type": "code",
        "colab": {
          "base_uri": "https://localhost:8080/",
          "height": 35
        },
        "outputId": "77c7f87a-967e-40e1-c1a8-157bd75f3813"
      },
      "cell_type": "code",
      "source": [
        "print(\"{} 시간\".format(round(hours_to_lose1kg,1)))"
      ],
      "execution_count": 0,
      "outputs": [
        {
          "output_type": "stream",
          "text": [
            "15.5 시간\n"
          ],
          "name": "stdout"
        }
      ]
    },
    {
      "metadata": {
        "id": "DR_tiWBaZyMg",
        "colab_type": "code",
        "colab": {}
      },
      "cell_type": "code",
      "source": [
        ""
      ],
      "execution_count": 0,
      "outputs": []
    }
  ]
}