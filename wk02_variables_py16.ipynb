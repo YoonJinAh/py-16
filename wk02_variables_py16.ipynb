{
  "nbformat": 4,
  "nbformat_minor": 0,
  "metadata": {
    "colab": {
      "name": "wk02_variables_py16.ipynb의 사본의 사본",
      "version": "0.3.2",
      "provenance": [],
      "collapsed_sections": [],
      "include_colab_link": true
    },
    "kernelspec": {
      "name": "python3",
      "display_name": "Python 3"
    }
  },
  "cells": [
    {
      "cell_type": "markdown",
      "metadata": {
        "id": "view-in-github",
        "colab_type": "text"
      },
      "source": [
        "[View in Colaboratory](https://colab.research.google.com/github/minyeongChoi/py-16/blob/master/wk02_variables_py16.ipynb)"
      ]
    },
    {
      "metadata": {
        "id": "O-ke9e-vadYb",
        "colab_type": "toc"
      },
      "cell_type": "markdown",
      "source": [
        ">>[기본연산](#scrollTo=GVHzj3egSYTg)\n",
        "\n",
        ">>[변수](#scrollTo=CmwjQ2lbS7Uu)\n",
        "\n",
        ">>>[동적변수(dynamic typing)](#scrollTo=1rQwRkfES_x5)\n",
        "\n",
        ">>>[문자열](#scrollTo=On0Oa3V8TJv3)\n",
        "\n",
        ">>>[여러 행 문자열 (\"\"\" ~~ \"\"\")](#scrollTo=F3gvF2hqTZqq)\n",
        "\n",
        ">>>[여러 행 수식](#scrollTo=2XaZ1zOOTpmM)\n",
        "\n",
        ">>>[숫자와 문자열 처리](#scrollTo=blDMY_zfT2Pn)\n",
        "\n",
        ">>>>[변수 type](#scrollTo=veiE8I-XURNT)\n",
        "\n",
        ">>>[문자열을 숫자로 변환 : int(), float()](#scrollTo=u2aWk3f0UvGQ)\n",
        "\n",
        ">>[예약어 (keywords)](#scrollTo=YUPeJTFrVDZM)\n",
        "\n",
        ">>[User input](#scrollTo=5hK2IYC8Xnn-)\n",
        "\n",
        ">>>[Code block & Indentation](#scrollTo=lO-sMMYfYZml)\n",
        "\n",
        ">>>[Indentation error](#scrollTo=uWe4Lg-gYlIE)\n",
        "\n",
        ">>>[도전 코딩1. M/H**2, (M(kg),H(m))](#scrollTo=KHsiHt3LYvD6)\n",
        "\n",
        ">>>[도전 코딩2.](#scrollTo=hC-KYmLAZGwD)\n",
        "\n"
      ]
    },
    {
      "metadata": {
        "id": "GVHzj3egSYTg",
        "colab_type": "text"
      },
      "cell_type": "markdown",
      "source": [
        "## 변수(variables)"
      ]
    },
    {
      "metadata": {
        "id": "X1C1NimRSRSp",
        "colab_type": "code",
        "colab": {
          "base_uri": "https://localhost:8080/",
          "height": 35
        },
        "outputId": "f93f6522-8603-4c2f-899e-b3b6adcaffb0"
      },
      "cell_type": "code",
      "source": [
        "5-5+1+9"
      ],
      "execution_count": 1,
      "outputs": [
        {
          "output_type": "execute_result",
          "data": {
            "text/plain": [
              "10"
            ]
          },
          "metadata": {
            "tags": []
          },
          "execution_count": 1
        }
      ]
    },
    {
      "metadata": {
        "id": "OUw92zqgSpBF",
        "colab_type": "code",
        "colab": {
          "base_uri": "https://localhost:8080/",
          "height": 35
        },
        "outputId": "6363746b-6a3e-45d4-841c-e56efcb21c2c"
      },
      "cell_type": "code",
      "source": [
        "5/5/3+9"
      ],
      "execution_count": 2,
      "outputs": [
        {
          "output_type": "execute_result",
          "data": {
            "text/plain": [
              "9.333333333333334"
            ]
          },
          "metadata": {
            "tags": []
          },
          "execution_count": 2
        }
      ]
    },
    {
      "metadata": {
        "id": "1YnDGutprhDE",
        "colab_type": "code",
        "colab": {
          "base_uri": "https://localhost:8080/",
          "height": 35
        },
        "outputId": "f325594f-642f-4e78-8dc9-715efea648de"
      },
      "cell_type": "code",
      "source": [
        "round(5/5/3+9,1)"
      ],
      "execution_count": 4,
      "outputs": [
        {
          "output_type": "execute_result",
          "data": {
            "text/plain": [
              "9.3"
            ]
          },
          "metadata": {
            "tags": []
          },
          "execution_count": 4
        }
      ]
    },
    {
      "metadata": {
        "id": "T5FI07glStwK",
        "colab_type": "code",
        "colab": {
          "base_uri": "https://localhost:8080/",
          "height": 35
        },
        "outputId": "e5615943-c4cd-40c7-91ea-fcdfe43b7b19"
      },
      "cell_type": "code",
      "source": [
        "5/(5/3)+9"
      ],
      "execution_count": 5,
      "outputs": [
        {
          "output_type": "execute_result",
          "data": {
            "text/plain": [
              "12.0"
            ]
          },
          "metadata": {
            "tags": []
          },
          "execution_count": 5
        }
      ]
    },
    {
      "metadata": {
        "id": "3dq9OtBucKmy",
        "colab_type": "code",
        "colab": {
          "base_uri": "https://localhost:8080/",
          "height": 35
        },
        "outputId": "b6f4f911-c9f0-4dc5-c139-93e00ec04e0f"
      },
      "cell_type": "code",
      "source": [
        "5/5*1+9"
      ],
      "execution_count": 6,
      "outputs": [
        {
          "output_type": "execute_result",
          "data": {
            "text/plain": [
              "10.0"
            ]
          },
          "metadata": {
            "tags": []
          },
          "execution_count": 6
        }
      ]
    },
    {
      "metadata": {
        "id": "s52EzTnwS0q-",
        "colab_type": "code",
        "colab": {
          "base_uri": "https://localhost:8080/",
          "height": 35
        },
        "outputId": "38a71cfa-a073-4153-f6b1-1e1c28901297"
      },
      "cell_type": "code",
      "source": [
        "5/5*(1+9)"
      ],
      "execution_count": 10,
      "outputs": [
        {
          "output_type": "execute_result",
          "data": {
            "text/plain": [
              "10.0"
            ]
          },
          "metadata": {
            "tags": []
          },
          "execution_count": 10
        }
      ]
    },
    {
      "metadata": {
        "id": "1rQwRkfES_x5",
        "colab_type": "text"
      },
      "cell_type": "markdown",
      "source": [
        "### 동적변수(dynamic typing)"
      ]
    },
    {
      "metadata": {
        "id": "nQ-1K2BCS4xT",
        "colab_type": "code",
        "colab": {}
      },
      "cell_type": "code",
      "source": [
        "# 파이썬은 동적인 언어이다. (Dynamic typing)\n",
        "# 정의된 변수 // 숫자나 글이나 상관 없다\n",
        "some_var = 100\n",
        "# 한편, 정적인 종류의 프로그래밍 언어\n",
        "# 변수는 정해진 유형의 데이터만 할당할 수 있다"
      ],
      "execution_count": 0,
      "outputs": []
    },
    {
      "metadata": {
        "id": "rXxLWac5dk_r",
        "colab_type": "code",
        "colab": {}
      },
      "cell_type": "code",
      "source": [
        "# 다른 종류의 데이터를 할당할 수 있습다\n",
        "some_var = \"강남스타일\""
      ],
      "execution_count": 0,
      "outputs": []
    },
    {
      "metadata": {
        "id": "77vXAaYDdmKX",
        "colab_type": "code",
        "colab": {
          "base_uri": "https://localhost:8080/",
          "height": 35
        },
        "outputId": "f4bb4624-97dd-4320-cafb-d498a5eb1389"
      },
      "cell_type": "code",
      "source": [
        "some_var"
      ],
      "execution_count": 16,
      "outputs": [
        {
          "output_type": "execute_result",
          "data": {
            "text/plain": [
              "'강남스타일'"
            ]
          },
          "metadata": {
            "tags": []
          },
          "execution_count": 16
        }
      ]
    },
    {
      "metadata": {
        "id": "On0Oa3V8TJv3",
        "colab_type": "text"
      },
      "cell_type": "markdown",
      "source": [
        "### 문자열"
      ]
    },
    {
      "metadata": {
        "id": "a1wQ8H9cTIqb",
        "colab_type": "code",
        "colab": {}
      },
      "cell_type": "code",
      "source": [
        "psy = \"오빤 강남스타일 \"    # 문자열을 변수에 할당"
      ],
      "execution_count": 0,
      "outputs": []
    },
    {
      "metadata": {
        "id": "4gcoNVwGTQQx",
        "colab_type": "code",
        "colab": {
          "base_uri": "https://localhost:8080/",
          "height": 35
        },
        "outputId": "c424da7e-abd8-42a3-8682-4e8027af2bde"
      },
      "cell_type": "code",
      "source": [
        "# 문자열을 연결\n",
        "psy = \"오빤 강남스타일 \" \n",
        "psy = psy+\"오, 강남스타일\"\n",
        "psy                  # 연결 문자열을 확인"
      ],
      "execution_count": 0,
      "outputs": [
        {
          "output_type": "execute_result",
          "data": {
            "text/plain": [
              "'오빤 강남스타일 오, 강남스타일'"
            ]
          },
          "metadata": {
            "tags": []
          },
          "execution_count": 10
        }
      ]
    },
    {
      "metadata": {
        "id": "j0SfwUnCTTIU",
        "colab_type": "code",
        "colab": {
          "base_uri": "https://localhost:8080/",
          "height": 35
        },
        "outputId": "cb06a5a6-dffd-4e7f-faaa-421d56628506"
      },
      "cell_type": "code",
      "source": [
        "# 복합 연산자를 사용해 보자\n",
        "psy2 = \"아름다워 사랑스러워 \"\n",
        "psy2 += \"그래 너, 그래 바로 너\"\n",
        "psy2       # 복합 연산자를 사용하여 연결 문자열을 확인"
      ],
      "execution_count": 0,
      "outputs": [
        {
          "output_type": "execute_result",
          "data": {
            "text/plain": [
              "'아름다워 사랑스러워 그래 너, 그래 바로 너'"
            ]
          },
          "metadata": {
            "tags": []
          },
          "execution_count": 11
        }
      ]
    },
    {
      "metadata": {
        "id": "F3gvF2hqTZqq",
        "colab_type": "text"
      },
      "cell_type": "markdown",
      "source": [
        "### 여러 행 문자열 (\"\"\" ~~ \"\"\")"
      ]
    },
    {
      "metadata": {
        "id": "IWXNyTufTWUa",
        "colab_type": "code",
        "colab": {}
      },
      "cell_type": "code",
      "source": [
        "# 따옴표를 세 개 겹친 삼중 따옴표를 사용하면 줄 바꿈을 포함하는 문자열을 정의할 수 있다\n",
        "\n",
        "psy = \"\"\" 낮에는 따사로운 인간적인 여자 \n",
        "커피 한잔의 여유를 아는 품격있는 여자 \n",
        "밤이 오면 심장이 뜨거워지는 여자 그런 반전 있는 여자 \"\"\""
      ],
      "execution_count": 0,
      "outputs": []
    },
    {
      "metadata": {
        "id": "LsaZxEdKtf0k",
        "colab_type": "code",
        "colab": {
          "base_uri": "https://localhost:8080/",
          "height": 55
        },
        "outputId": "9e728413-1093-48aa-839e-ce12d471845e"
      },
      "cell_type": "code",
      "source": [
        "psy"
      ],
      "execution_count": 21,
      "outputs": [
        {
          "output_type": "execute_result",
          "data": {
            "text/plain": [
              "' 낮에는 따사로운 인간적인 여자 \\n커피 한잔의 여유를 아는 품격있는 여자 \\n밤이 오면 심장이 뜨거워지는 여자 그런 반전 있는 여자 '"
            ]
          },
          "metadata": {
            "tags": []
          },
          "execution_count": 21
        }
      ]
    },
    {
      "metadata": {
        "id": "fHVFz5ZsTjYf",
        "colab_type": "code",
        "colab": {
          "base_uri": "https://localhost:8080/",
          "height": 71
        },
        "outputId": "9b4ba26b-c993-4993-f89b-72458a403451"
      },
      "cell_type": "code",
      "source": [
        "print(psy)"
      ],
      "execution_count": 0,
      "outputs": [
        {
          "output_type": "stream",
          "text": [
            " 낮에는 따사로운 인간적인 여자 \n",
            "커피 한잔의 여유를 아는 품격있는 여자 \n",
            "밤이 오면 심장이 뜨거워지는 여자 그런 반전 있는 여자 \n"
          ],
          "name": "stdout"
        }
      ]
    },
    {
      "metadata": {
        "id": "2XaZ1zOOTpmM",
        "colab_type": "text"
      },
      "cell_type": "markdown",
      "source": [
        "### 여러 행 수식"
      ]
    },
    {
      "metadata": {
        "id": "ArUIjSYITl-w",
        "colab_type": "code",
        "colab": {
          "base_uri": "https://localhost:8080/",
          "height": 35
        },
        "outputId": "1924e44e-9e2c-4922-93cf-8d95ce89c03e"
      },
      "cell_type": "code",
      "source": [
        "sum = 10 + 20 + 30 + 40\n",
        "sum"
      ],
      "execution_count": 0,
      "outputs": [
        {
          "output_type": "execute_result",
          "data": {
            "text/plain": [
              "100"
            ]
          },
          "metadata": {
            "tags": []
          },
          "execution_count": 14
        }
      ]
    },
    {
      "metadata": {
        "id": "M7jJzLLVTy4g",
        "colab_type": "code",
        "colab": {
          "base_uri": "https://localhost:8080/",
          "height": 35
        },
        "outputId": "bc956621-c8f5-466c-8264-5292821a9fa9"
      },
      "cell_type": "code",
      "source": [
        "sum = 10 + 20 + \\  # 줄바꿈\n",
        "30 + 40\n",
        "sum"
      ],
      "execution_count": 0,
      "outputs": [
        {
          "output_type": "execute_result",
          "data": {
            "text/plain": [
              "100"
            ]
          },
          "metadata": {
            "tags": []
          },
          "execution_count": 15
        }
      ]
    },
    {
      "metadata": {
        "id": "blDMY_zfT2Pn",
        "colab_type": "text"
      },
      "cell_type": "markdown",
      "source": [
        "### 숫자와 문자열 처리"
      ]
    },
    {
      "metadata": {
        "id": "rNM_woRaT7_l",
        "colab_type": "code",
        "colab": {
          "base_uri": "https://localhost:8080/",
          "height": 208
        },
        "outputId": "1c1d3a7e-52d3-4515-8c34-f45c9628e880"
      },
      "cell_type": "code",
      "source": [
        "day=3\n",
        "date = day + \" 일\" # 숫자와 문자열을 더하면 에러가난다\n",
        "print(date)"
      ],
      "execution_count": 23,
      "outputs": [
        {
          "output_type": "error",
          "ename": "TypeError",
          "evalue": "ignored",
          "traceback": [
            "\u001b[0;31m---------------------------------------------------------------------------\u001b[0m",
            "\u001b[0;31mTypeError\u001b[0m                                 Traceback (most recent call last)",
            "\u001b[0;32m<ipython-input-23-7b6f96ffd9cd>\u001b[0m in \u001b[0;36m<module>\u001b[0;34m()\u001b[0m\n\u001b[1;32m      1\u001b[0m \u001b[0mday\u001b[0m\u001b[0;34m=\u001b[0m\u001b[0;36m3\u001b[0m\u001b[0;34m\u001b[0m\u001b[0m\n\u001b[0;32m----> 2\u001b[0;31m \u001b[0mdate\u001b[0m \u001b[0;34m=\u001b[0m \u001b[0mday\u001b[0m \u001b[0;34m+\u001b[0m \u001b[0;34m\" 일\"\u001b[0m \u001b[0;31m# 숫자와 문자열을 더하면 에러가난다\u001b[0m\u001b[0;34m\u001b[0m\u001b[0m\n\u001b[0m\u001b[1;32m      3\u001b[0m \u001b[0mprint\u001b[0m\u001b[0;34m(\u001b[0m\u001b[0mdate\u001b[0m\u001b[0;34m)\u001b[0m\u001b[0;34m\u001b[0m\u001b[0m\n",
            "\u001b[0;31mTypeError\u001b[0m: unsupported operand type(s) for +: 'int' and 'str'"
          ]
        }
      ]
    },
    {
      "metadata": {
        "id": "0bSLYCqjUCqc",
        "colab_type": "code",
        "colab": {
          "base_uri": "https://localhost:8080/",
          "height": 35
        },
        "outputId": "ca75f14f-e2ad-4b0f-daa9-d949fa97b75b"
      },
      "cell_type": "code",
      "source": [
        "date = str(day) + \" 일\"\n",
        "print(date)  #숫자와 문자열을 더하기위해 str사용"
      ],
      "execution_count": 24,
      "outputs": [
        {
          "output_type": "stream",
          "text": [
            "3 일\n"
          ],
          "name": "stdout"
        }
      ]
    },
    {
      "metadata": {
        "id": "g9avAQTqUK9O",
        "colab_type": "code",
        "colab": {
          "base_uri": "https://localhost:8080/",
          "height": 35
        },
        "outputId": "d81700a2-7371-4240-e838-271d65ba5a28"
      },
      "cell_type": "code",
      "source": [
        "day=3\n",
        "str_day=str(day)\n",
        "date = str_day + \" 일\"\n",
        "print(date) "
      ],
      "execution_count": 25,
      "outputs": [
        {
          "output_type": "stream",
          "text": [
            "3 일\n"
          ],
          "name": "stdout"
        }
      ]
    },
    {
      "metadata": {
        "id": "h5lnI4WxuRcU",
        "colab_type": "code",
        "colab": {
          "base_uri": "https://localhost:8080/",
          "height": 35
        },
        "outputId": "bd8737ad-5125-495c-a649-9f899bb41be3"
      },
      "cell_type": "code",
      "source": [
        "day = \"3\"\n",
        "date = day + \" 일\"\n",
        "print(date) # 둘다 문자열 취급하면 더하기 가능"
      ],
      "execution_count": 26,
      "outputs": [
        {
          "output_type": "stream",
          "text": [
            "3 일\n"
          ],
          "name": "stdout"
        }
      ]
    },
    {
      "metadata": {
        "id": "veiE8I-XURNT",
        "colab_type": "text"
      },
      "cell_type": "markdown",
      "source": [
        "### 변수 type"
      ]
    },
    {
      "metadata": {
        "id": "hD7z8cRcUPYM",
        "colab_type": "code",
        "colab": {
          "base_uri": "https://localhost:8080/",
          "height": 35
        },
        "outputId": "0cd4aba8-56a1-4fb9-cd92-3454119afbca"
      },
      "cell_type": "code",
      "source": [
        "# 변수 type\n",
        "type(day)"
      ],
      "execution_count": 27,
      "outputs": [
        {
          "output_type": "execute_result",
          "data": {
            "text/plain": [
              "str"
            ]
          },
          "metadata": {
            "tags": []
          },
          "execution_count": 27
        }
      ]
    },
    {
      "metadata": {
        "id": "jMqOx-8vUbkv",
        "colab_type": "code",
        "colab": {
          "base_uri": "https://localhost:8080/",
          "height": 35
        },
        "outputId": "dd021fac-9a83-401d-df21-faa3520f5083"
      },
      "cell_type": "code",
      "source": [
        "type(day),type(str_day),type(date)"
      ],
      "execution_count": 31,
      "outputs": [
        {
          "output_type": "execute_result",
          "data": {
            "text/plain": [
              "(str, str, str)"
            ]
          },
          "metadata": {
            "tags": []
          },
          "execution_count": 31
        }
      ]
    },
    {
      "metadata": {
        "id": "8LVwGNScUd2p",
        "colab_type": "code",
        "colab": {
          "base_uri": "https://localhost:8080/",
          "height": 1331
        },
        "outputId": "a91dbfd0-c953-4cb4-dfe9-c2974e490320"
      },
      "cell_type": "code",
      "source": [
        "dir()"
      ],
      "execution_count": 29,
      "outputs": [
        {
          "output_type": "execute_result",
          "data": {
            "text/plain": [
              "['In',\n",
              " 'Out',\n",
              " '_',\n",
              " '_1',\n",
              " '_10',\n",
              " '_13',\n",
              " '_14',\n",
              " '_16',\n",
              " '_19',\n",
              " '_2',\n",
              " '_21',\n",
              " '_27',\n",
              " '_28',\n",
              " '_3',\n",
              " '_4',\n",
              " '_5',\n",
              " '_6',\n",
              " '_7',\n",
              " '_8',\n",
              " '_9',\n",
              " '__',\n",
              " '___',\n",
              " '__builtin__',\n",
              " '__builtins__',\n",
              " '__doc__',\n",
              " '__loader__',\n",
              " '__name__',\n",
              " '__package__',\n",
              " '__spec__',\n",
              " '_dh',\n",
              " '_i',\n",
              " '_i1',\n",
              " '_i10',\n",
              " '_i11',\n",
              " '_i12',\n",
              " '_i13',\n",
              " '_i14',\n",
              " '_i15',\n",
              " '_i16',\n",
              " '_i17',\n",
              " '_i18',\n",
              " '_i19',\n",
              " '_i2',\n",
              " '_i20',\n",
              " '_i21',\n",
              " '_i22',\n",
              " '_i23',\n",
              " '_i24',\n",
              " '_i25',\n",
              " '_i26',\n",
              " '_i27',\n",
              " '_i28',\n",
              " '_i29',\n",
              " '_i3',\n",
              " '_i4',\n",
              " '_i5',\n",
              " '_i6',\n",
              " '_i7',\n",
              " '_i8',\n",
              " '_i9',\n",
              " '_ih',\n",
              " '_ii',\n",
              " '_iii',\n",
              " '_oh',\n",
              " '_sh',\n",
              " 'date',\n",
              " 'day',\n",
              " 'exit',\n",
              " 'get_ipython',\n",
              " 'psy',\n",
              " 'quit',\n",
              " 'some_var',\n",
              " 'str_day']"
            ]
          },
          "metadata": {
            "tags": []
          },
          "execution_count": 29
        }
      ]
    },
    {
      "metadata": {
        "id": "u2aWk3f0UvGQ",
        "colab_type": "text"
      },
      "cell_type": "markdown",
      "source": [
        "### 문자열을 숫자로 변환 : int(), float()"
      ]
    },
    {
      "metadata": {
        "id": "O2eQ5QvnUhCw",
        "colab_type": "code",
        "colab": {}
      },
      "cell_type": "code",
      "source": [
        "num = int(\"31\")\n",
        "pi = float('3.141592')"
      ],
      "execution_count": 0,
      "outputs": []
    },
    {
      "metadata": {
        "id": "i_Smj4bfU1E9",
        "colab_type": "code",
        "colab": {
          "base_uri": "https://localhost:8080/",
          "height": 35
        },
        "outputId": "8ce41c81-7587-4c31-b775-4f74a5deb098"
      },
      "cell_type": "code",
      "source": [
        "# num.pi\n",
        "num"
      ],
      "execution_count": 33,
      "outputs": [
        {
          "output_type": "execute_result",
          "data": {
            "text/plain": [
              "31"
            ]
          },
          "metadata": {
            "tags": []
          },
          "execution_count": 33
        }
      ]
    },
    {
      "metadata": {
        "id": "ZYk00QqaU3Me",
        "colab_type": "code",
        "colab": {
          "base_uri": "https://localhost:8080/",
          "height": 35
        },
        "outputId": "44320001-4baf-482b-8cb3-a63211f787ee"
      },
      "cell_type": "code",
      "source": [
        "pi,type(pi)"
      ],
      "execution_count": 34,
      "outputs": [
        {
          "output_type": "execute_result",
          "data": {
            "text/plain": [
              "(3.141592, float)"
            ]
          },
          "metadata": {
            "tags": []
          },
          "execution_count": 34
        }
      ]
    },
    {
      "metadata": {
        "id": "PsojT36PU4rS",
        "colab_type": "code",
        "colab": {
          "base_uri": "https://localhost:8080/",
          "height": 35
        },
        "outputId": "b75391d5-0b3f-4124-9923-570508387583"
      },
      "cell_type": "code",
      "source": [
        "print(\"num = {}, pi = {}\".format(num,pi))"
      ],
      "execution_count": 35,
      "outputs": [
        {
          "output_type": "stream",
          "text": [
            "num = 31, pi = 3.141592\n"
          ],
          "name": "stdout"
        }
      ]
    },
    {
      "metadata": {
        "id": "YUPeJTFrVDZM",
        "colab_type": "text"
      },
      "cell_type": "markdown",
      "source": [
        "## 예약어 (keywords)"
      ]
    },
    {
      "metadata": {
        "id": "0M9jpRlbU7O5",
        "colab_type": "code",
        "colab": {
          "base_uri": "https://localhost:8080/",
          "height": 35
        },
        "outputId": "22c32b4e-0629-4f9b-8f88-25c797187759"
      },
      "cell_type": "code",
      "source": [
        "import keyword\n",
        "\n",
        "# 파이썬의 예약어 수\n",
        "\n",
        "len(keyword.kwlist)"
      ],
      "execution_count": 36,
      "outputs": [
        {
          "output_type": "execute_result",
          "data": {
            "text/plain": [
              "33"
            ]
          },
          "metadata": {
            "tags": []
          },
          "execution_count": 36
        }
      ]
    },
    {
      "metadata": {
        "id": "4N3IG9fGVI2u",
        "colab_type": "code",
        "colab": {
          "base_uri": "https://localhost:8080/",
          "height": 35
        },
        "outputId": "34ae597b-ab3b-4c16-a624-242693c39e72"
      },
      "cell_type": "code",
      "source": [
        "keyword"
      ],
      "execution_count": 37,
      "outputs": [
        {
          "output_type": "execute_result",
          "data": {
            "text/plain": [
              "<module 'keyword' from '/usr/lib/python3.6/keyword.py'>"
            ]
          },
          "metadata": {
            "tags": []
          },
          "execution_count": 37
        }
      ]
    },
    {
      "metadata": {
        "id": "PLqlUjtIXGTJ",
        "colab_type": "code",
        "colab": {
          "base_uri": "https://localhost:8080/",
          "height": 611
        },
        "outputId": "7e3c0ce1-feaa-48de-c13c-8ece98a9b2d7"
      },
      "cell_type": "code",
      "source": [
        "# 예약어 목록\n",
        "keyword.kwlist"
      ],
      "execution_count": 38,
      "outputs": [
        {
          "output_type": "execute_result",
          "data": {
            "text/plain": [
              "['False',\n",
              " 'None',\n",
              " 'True',\n",
              " 'and',\n",
              " 'as',\n",
              " 'assert',\n",
              " 'break',\n",
              " 'class',\n",
              " 'continue',\n",
              " 'def',\n",
              " 'del',\n",
              " 'elif',\n",
              " 'else',\n",
              " 'except',\n",
              " 'finally',\n",
              " 'for',\n",
              " 'from',\n",
              " 'global',\n",
              " 'if',\n",
              " 'import',\n",
              " 'in',\n",
              " 'is',\n",
              " 'lambda',\n",
              " 'nonlocal',\n",
              " 'not',\n",
              " 'or',\n",
              " 'pass',\n",
              " 'raise',\n",
              " 'return',\n",
              " 'try',\n",
              " 'while',\n",
              " 'with',\n",
              " 'yield']"
            ]
          },
          "metadata": {
            "tags": []
          },
          "execution_count": 38
        }
      ]
    },
    {
      "metadata": {
        "id": "N80us7MhXdx6",
        "colab_type": "code",
        "colab": {
          "base_uri": "https://localhost:8080/",
          "height": 35
        },
        "outputId": "073ee48e-ae23-4ba0-f000-92b3af7e8d8a"
      },
      "cell_type": "code",
      "source": [
        "_as = \"inje\"\n",
        "_as"
      ],
      "execution_count": 39,
      "outputs": [
        {
          "output_type": "execute_result",
          "data": {
            "text/plain": [
              "'inje'"
            ]
          },
          "metadata": {
            "tags": []
          },
          "execution_count": 39
        }
      ]
    },
    {
      "metadata": {
        "id": "5hK2IYC8Xnn-",
        "colab_type": "text"
      },
      "cell_type": "markdown",
      "source": [
        "## User input"
      ]
    },
    {
      "metadata": {
        "id": "wNlRaanWXhLL",
        "colab_type": "code",
        "colab": {
          "base_uri": "https://localhost:8080/",
          "height": 35
        },
        "outputId": "e8731478-41b4-4cfa-ee31-b98e075b1d0b"
      },
      "cell_type": "code",
      "source": [
        "name = input(\"Please write down your name here!\")"
      ],
      "execution_count": 40,
      "outputs": [
        {
          "output_type": "stream",
          "text": [
            "Please write down your name here!MinYeong\n"
          ],
          "name": "stdout"
        }
      ]
    },
    {
      "metadata": {
        "id": "JuCUAJrnXxkn",
        "colab_type": "code",
        "colab": {
          "base_uri": "https://localhost:8080/",
          "height": 35
        },
        "outputId": "0110afcf-846b-46da-a535-e8bf915bd44c"
      },
      "cell_type": "code",
      "source": [
        "name"
      ],
      "execution_count": 41,
      "outputs": [
        {
          "output_type": "execute_result",
          "data": {
            "text/plain": [
              "'MinYeong'"
            ]
          },
          "metadata": {
            "tags": []
          },
          "execution_count": 41
        }
      ]
    },
    {
      "metadata": {
        "id": "lO-sMMYfYZml",
        "colab_type": "text"
      },
      "cell_type": "markdown",
      "source": [
        "### Code block & Indentation"
      ]
    },
    {
      "metadata": {
        "id": "jamVt0QGYYQZ",
        "colab_type": "code",
        "colab": {
          "base_uri": "https://localhost:8080/",
          "height": 71
        },
        "outputId": "36585ae9-c10b-4ebf-feef-d2b4fbf8480c"
      },
      "cell_type": "code",
      "source": [
        "if(10>3):\n",
        "  print('inside if block')\n",
        "  print('still inside if block') #가정이 ture라면 3줄 다 출력됨.\n",
        "  \n",
        "print('outside if block!') #가정이 false라면 이 줄만 출력됨."
      ],
      "execution_count": 45,
      "outputs": [
        {
          "output_type": "stream",
          "text": [
            "inside if block\n",
            "still inside if block\n",
            "outside if block!\n"
          ],
          "name": "stdout"
        }
      ]
    },
    {
      "metadata": {
        "id": "jPl-gkbFv6SE",
        "colab_type": "code",
        "colab": {
          "base_uri": "https://localhost:8080/",
          "height": 35
        },
        "outputId": "7fe787a6-9867-469c-8e22-96a9c503e149"
      },
      "cell_type": "code",
      "source": [
        "if(10<3):\n",
        "  print('inside if block')\n",
        "  print('still inside if block') #가정이 ture라면 3줄 다 출력됨.\n",
        "  \n",
        "print('outside if block!') #가정이 false라면 이 줄만 출력됨."
      ],
      "execution_count": 46,
      "outputs": [
        {
          "output_type": "stream",
          "text": [
            "outside if block!\n"
          ],
          "name": "stdout"
        }
      ]
    },
    {
      "metadata": {
        "id": "uWe4Lg-gYlIE",
        "colab_type": "text"
      },
      "cell_type": "markdown",
      "source": [
        "### Indentation error"
      ]
    },
    {
      "metadata": {
        "id": "dfTSHl4sYj1P",
        "colab_type": "code",
        "colab": {
          "base_uri": "https://localhost:8080/",
          "height": 136
        },
        "outputId": "82dc25ab-6828-43bd-8802-f3ad61d1cc83"
      },
      "cell_type": "code",
      "source": [
        "if(10>3):\n",
        "  print('inside if block')\n",
        "   print('still inside if block') # 윗 줄과 같은 라인이 아니기때문에 에러\n",
        "  \n",
        "print('outside if block!')"
      ],
      "execution_count": 44,
      "outputs": [
        {
          "output_type": "error",
          "ename": "IndentationError",
          "evalue": "ignored",
          "traceback": [
            "\u001b[0;36m  File \u001b[0;32m\"<ipython-input-44-9536e2ead1e8>\"\u001b[0;36m, line \u001b[0;32m3\u001b[0m\n\u001b[0;31m    print('still inside if block') # 윗 줄과 같은 라인이 아니기때문에 에러\u001b[0m\n\u001b[0m    ^\u001b[0m\n\u001b[0;31mIndentationError\u001b[0m\u001b[0;31m:\u001b[0m unexpected indent\n"
          ]
        }
      ]
    },
    {
      "metadata": {
        "id": "KHsiHt3LYvD6",
        "colab_type": "text"
      },
      "cell_type": "markdown",
      "source": [
        "### 도전 코딩1. M/H**2, (M(kg),H(m))"
      ]
    },
    {
      "metadata": {
        "id": "JxoZHVgrYscb",
        "colab_type": "code",
        "colab": {
          "base_uri": "https://localhost:8080/",
          "height": 71
        },
        "outputId": "8596ad11-373d-4eb2-f2cf-37c463396659"
      },
      "cell_type": "code",
      "source": [
        "h = float(input(\"Your height in meters:\"))\n",
        "m = float(input(\"Your weight in kilograms:\"))\n",
        "bmi = round(m/(h*h),1)\n",
        "bmi"
      ],
      "execution_count": 49,
      "outputs": [
        {
          "output_type": "stream",
          "text": [
            "Your height in meters:1.60\n",
            "Your weight in kilograms:56\n"
          ],
          "name": "stdout"
        },
        {
          "output_type": "execute_result",
          "data": {
            "text/plain": [
              "21.9"
            ]
          },
          "metadata": {
            "tags": []
          },
          "execution_count": 49
        }
      ]
    },
    {
      "metadata": {
        "id": "hC-KYmLAZGwD",
        "colab_type": "text"
      },
      "cell_type": "markdown",
      "source": [
        "### 도전 코딩2.\n",
        "\n",
        "1.   조깅에서 1kg 지방을 태우는데 몇 시간이 걸리는지 계산\n",
        "\n",
        "\n",
        "2.  조깅에서 1kg 체중 감소하는데 몇 분이 필요할까?\n"
      ]
    },
    {
      "metadata": {
        "id": "fXEVa6X2Y0nt",
        "colab_type": "code",
        "colab": {}
      },
      "cell_type": "code",
      "source": [
        "cal_per_1kg_fat = 7200       # 지방 1kg 연소에 필요한 열량\n",
        "cal_per_1min_jog = 7.76       # 조깅 1 분에 의한 소비 칼로리"
      ],
      "execution_count": 0,
      "outputs": []
    },
    {
      "metadata": {
        "id": "9SSx2XMTZtI3",
        "colab_type": "code",
        "colab": {
          "base_uri": "https://localhost:8080/",
          "height": 53
        },
        "outputId": "999751e3-6253-40f9-c89a-22a56dc16009"
      },
      "cell_type": "code",
      "source": [
        "min_to_lose1kg = cal_per_1kg_fat/cal_per_1min_jog\n",
        "hours_to_lose1kg = min_to_lose1kg/60  # 분을 시간으로 환산\n",
        "print(round(hours_to_lose1kg,1))\n",
        "print(str(round(hours_to_lose1kg,1)) + \" 시간\")      # 변수의 내용을 표시"
      ],
      "execution_count": 51,
      "outputs": [
        {
          "output_type": "stream",
          "text": [
            "15.5\n",
            "15.5 시간\n"
          ],
          "name": "stdout"
        }
      ]
    },
    {
      "metadata": {
        "id": "gD-UbmzVZvyN",
        "colab_type": "code",
        "colab": {
          "base_uri": "https://localhost:8080/",
          "height": 35
        },
        "outputId": "df72ef52-d115-4b3b-e440-7a45f1daa1ec"
      },
      "cell_type": "code",
      "source": [
        "print(\"{} 시간\".format(round(hours_to_lose1kg,1)))"
      ],
      "execution_count": 52,
      "outputs": [
        {
          "output_type": "stream",
          "text": [
            "15.5 시간\n"
          ],
          "name": "stdout"
        }
      ]
    }
  ]
}